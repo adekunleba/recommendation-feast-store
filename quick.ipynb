{
 "metadata": {
  "language_info": {
   "codemirror_mode": {
    "name": "ipython",
    "version": 3
   },
   "file_extension": ".py",
   "mimetype": "text/x-python",
   "name": "python",
   "nbconvert_exporter": "python",
   "pygments_lexer": "ipython3",
   "version": "3.8.10"
  },
  "orig_nbformat": 4,
  "kernelspec": {
   "name": "python3",
   "display_name": "Python 3.8.10 64-bit ('pythonProject': conda)"
  },
  "interpreter": {
   "hash": "3b6bc08dfeb83bdb1a455860731bd1fcd4fc9e11aeaa07191c3735a4b6329c4a"
  }
 },
 "nbformat": 4,
 "nbformat_minor": 2,
 "cells": [
  {
   "cell_type": "code",
   "execution_count": 5,
   "metadata": {},
   "outputs": [],
   "source": [
    "import pandas as pd\n",
    "from datetime import datetime"
   ]
  },
  {
   "cell_type": "code",
   "execution_count": 21,
   "metadata": {},
   "outputs": [
    {
     "output_type": "execute_result",
     "data": {
      "text/plain": [
       "                      impression_id     impression_time  user_id  app_code  \\\n",
       "0  c4ca4238a0b923820dcc509a6f75849b 2018-11-15 00:00:00    87862       422   \n",
       "1  45c48cce2e2d7fbdea1afc51c7c6ad26 2018-11-15 00:01:00    63410       467   \n",
       "2  70efdf2ec9b086079795c442636b55fb 2018-11-15 00:02:00    71748       259   \n",
       "3  8e296a067a37563370ded05f5a3bf3ec 2018-11-15 00:02:00    69209       244   \n",
       "4  182be0c5cdcd5072bb1864cdee4d3d6e 2018-11-15 00:02:00    62873       473   \n",
       "\n",
       "     os_version  is_4G  is_click  \n",
       "0           old      0         0  \n",
       "1        latest      1         1  \n",
       "2  intermediate      1         0  \n",
       "3        latest      1         0  \n",
       "4        latest      0         0  "
      ],
      "text/html": "<div>\n<style scoped>\n    .dataframe tbody tr th:only-of-type {\n        vertical-align: middle;\n    }\n\n    .dataframe tbody tr th {\n        vertical-align: top;\n    }\n\n    .dataframe thead th {\n        text-align: right;\n    }\n</style>\n<table border=\"1\" class=\"dataframe\">\n  <thead>\n    <tr style=\"text-align: right;\">\n      <th></th>\n      <th>impression_id</th>\n      <th>impression_time</th>\n      <th>user_id</th>\n      <th>app_code</th>\n      <th>os_version</th>\n      <th>is_4G</th>\n      <th>is_click</th>\n    </tr>\n  </thead>\n  <tbody>\n    <tr>\n      <th>0</th>\n      <td>c4ca4238a0b923820dcc509a6f75849b</td>\n      <td>2018-11-15 00:00:00</td>\n      <td>87862</td>\n      <td>422</td>\n      <td>old</td>\n      <td>0</td>\n      <td>0</td>\n    </tr>\n    <tr>\n      <th>1</th>\n      <td>45c48cce2e2d7fbdea1afc51c7c6ad26</td>\n      <td>2018-11-15 00:01:00</td>\n      <td>63410</td>\n      <td>467</td>\n      <td>latest</td>\n      <td>1</td>\n      <td>1</td>\n    </tr>\n    <tr>\n      <th>2</th>\n      <td>70efdf2ec9b086079795c442636b55fb</td>\n      <td>2018-11-15 00:02:00</td>\n      <td>71748</td>\n      <td>259</td>\n      <td>intermediate</td>\n      <td>1</td>\n      <td>0</td>\n    </tr>\n    <tr>\n      <th>3</th>\n      <td>8e296a067a37563370ded05f5a3bf3ec</td>\n      <td>2018-11-15 00:02:00</td>\n      <td>69209</td>\n      <td>244</td>\n      <td>latest</td>\n      <td>1</td>\n      <td>0</td>\n    </tr>\n    <tr>\n      <th>4</th>\n      <td>182be0c5cdcd5072bb1864cdee4d3d6e</td>\n      <td>2018-11-15 00:02:00</td>\n      <td>62873</td>\n      <td>473</td>\n      <td>latest</td>\n      <td>0</td>\n      <td>0</td>\n    </tr>\n  </tbody>\n</table>\n</div>"
     },
     "metadata": {},
     "execution_count": 21
    }
   ],
   "source": [
    "data = pd.read_csv(\"~/Downloads/archive/train_adc/train.csv\")\n",
    "#Convert it to datetime before writing to quaaquet.\n",
    "data['impression_time'] = pd.to_datetime(data['impression_time'])\n",
    "data.head()"
   ]
  },
  {
   "cell_type": "code",
   "execution_count": 22,
   "metadata": {},
   "outputs": [],
   "source": [
    "data.to_parquet(\"data/train.parquet\")"
   ]
  },
  {
   "cell_type": "code",
   "execution_count": 5,
   "metadata": {},
   "outputs": [
    {
     "output_type": "execute_result",
     "data": {
      "text/plain": [
       "   item_id  item_price  category_1  category_2  category_3  product_type\n",
       "0    26880        4602          11          35          20          3040\n",
       "1    54939        3513          12          57          85          6822\n",
       "2    40383         825          17           8         279          1619\n",
       "3     8777        2355          13          58         189          5264\n",
       "4   113705        1267          17          39         151         10239"
      ],
      "text/html": "<div>\n<style scoped>\n    .dataframe tbody tr th:only-of-type {\n        vertical-align: middle;\n    }\n\n    .dataframe tbody tr th {\n        vertical-align: top;\n    }\n\n    .dataframe thead th {\n        text-align: right;\n    }\n</style>\n<table border=\"1\" class=\"dataframe\">\n  <thead>\n    <tr style=\"text-align: right;\">\n      <th></th>\n      <th>item_id</th>\n      <th>item_price</th>\n      <th>category_1</th>\n      <th>category_2</th>\n      <th>category_3</th>\n      <th>product_type</th>\n    </tr>\n  </thead>\n  <tbody>\n    <tr>\n      <th>0</th>\n      <td>26880</td>\n      <td>4602</td>\n      <td>11</td>\n      <td>35</td>\n      <td>20</td>\n      <td>3040</td>\n    </tr>\n    <tr>\n      <th>1</th>\n      <td>54939</td>\n      <td>3513</td>\n      <td>12</td>\n      <td>57</td>\n      <td>85</td>\n      <td>6822</td>\n    </tr>\n    <tr>\n      <th>2</th>\n      <td>40383</td>\n      <td>825</td>\n      <td>17</td>\n      <td>8</td>\n      <td>279</td>\n      <td>1619</td>\n    </tr>\n    <tr>\n      <th>3</th>\n      <td>8777</td>\n      <td>2355</td>\n      <td>13</td>\n      <td>58</td>\n      <td>189</td>\n      <td>5264</td>\n    </tr>\n    <tr>\n      <th>4</th>\n      <td>113705</td>\n      <td>1267</td>\n      <td>17</td>\n      <td>39</td>\n      <td>151</td>\n      <td>10239</td>\n    </tr>\n  </tbody>\n</table>\n</div>"
     },
     "metadata": {},
     "execution_count": 5
    }
   ],
   "source": [
    "item = pd.read_csv(\"~/Downloads/archive/train_adc/item_data.csv\")\n",
    "item.head()"
   ]
  },
  {
   "cell_type": "code",
   "execution_count": 6,
   "metadata": {},
   "outputs": [],
   "source": [
    "item.to_parquet(\"data/item_data.parquet\")"
   ]
  },
  {
   "cell_type": "code",
   "execution_count": 23,
   "metadata": {},
   "outputs": [
    {
     "output_type": "execute_result",
     "data": {
      "text/plain": [
       "          server_time device_type  session_id  user_id  item_id\n",
       "0 2018-10-15 08:58:00     android      112333     4557    32970\n",
       "1 2018-10-15 08:58:00     android      503590    74788     7640\n",
       "2 2018-10-15 08:58:00     android      573960    23628   128855\n",
       "3 2018-10-15 08:58:00     android      121691     2430    12774\n",
       "4 2018-10-15 08:58:00     android      218564    19227    28296"
      ],
      "text/html": "<div>\n<style scoped>\n    .dataframe tbody tr th:only-of-type {\n        vertical-align: middle;\n    }\n\n    .dataframe tbody tr th {\n        vertical-align: top;\n    }\n\n    .dataframe thead th {\n        text-align: right;\n    }\n</style>\n<table border=\"1\" class=\"dataframe\">\n  <thead>\n    <tr style=\"text-align: right;\">\n      <th></th>\n      <th>server_time</th>\n      <th>device_type</th>\n      <th>session_id</th>\n      <th>user_id</th>\n      <th>item_id</th>\n    </tr>\n  </thead>\n  <tbody>\n    <tr>\n      <th>0</th>\n      <td>2018-10-15 08:58:00</td>\n      <td>android</td>\n      <td>112333</td>\n      <td>4557</td>\n      <td>32970</td>\n    </tr>\n    <tr>\n      <th>1</th>\n      <td>2018-10-15 08:58:00</td>\n      <td>android</td>\n      <td>503590</td>\n      <td>74788</td>\n      <td>7640</td>\n    </tr>\n    <tr>\n      <th>2</th>\n      <td>2018-10-15 08:58:00</td>\n      <td>android</td>\n      <td>573960</td>\n      <td>23628</td>\n      <td>128855</td>\n    </tr>\n    <tr>\n      <th>3</th>\n      <td>2018-10-15 08:58:00</td>\n      <td>android</td>\n      <td>121691</td>\n      <td>2430</td>\n      <td>12774</td>\n    </tr>\n    <tr>\n      <th>4</th>\n      <td>2018-10-15 08:58:00</td>\n      <td>android</td>\n      <td>218564</td>\n      <td>19227</td>\n      <td>28296</td>\n    </tr>\n  </tbody>\n</table>\n</div>"
     },
     "metadata": {},
     "execution_count": 23
    }
   ],
   "source": [
    "view_log = pd.read_csv(\"~/Downloads/archive/train_adc/view_log.csv\")\n",
    "view_log['server_time'] = pd.to_datetime(view_log['server_time'])\n",
    "view_log.head()"
   ]
  },
  {
   "cell_type": "code",
   "execution_count": 38,
   "metadata": {},
   "outputs": [
    {
     "output_type": "stream",
     "name": "stdout",
     "text": [
      "<class 'pandas.core.frame.DataFrame'>\nRangeIndex: 3118622 entries, 0 to 3118621\nData columns (total 5 columns):\n #   Column       Dtype         \n---  ------       -----         \n 0   server_time  datetime64[ns]\n 1   device_type  object        \n 2   session_id   int64         \n 3   user_id      int64         \n 4   item_id      int64         \ndtypes: datetime64[ns](1), int64(3), object(1)\nmemory usage: 119.0+ MB\n"
     ]
    }
   ],
   "source": [
    "view_log.info()"
   ]
  },
  {
   "cell_type": "code",
   "execution_count": 24,
   "metadata": {},
   "outputs": [],
   "source": [
    "view_log.to_parquet(\"data/view_log.parquet\")"
   ]
  },
  {
   "cell_type": "code",
   "execution_count": 2,
   "metadata": {},
   "outputs": [],
   "source": [
    "from feast import FeatureStore"
   ]
  },
  {
   "cell_type": "code",
   "execution_count": 3,
   "metadata": {},
   "outputs": [
    {
     "output_type": "stream",
     "name": "stdout",
     "text": [
      "Feast is an open source project that collects anonymized usage statistics. To opt out or learn more see https://docs.feast.dev/v/master/feast-on-kubernetes/advanced-1/telemetry\n",
      "/Users/adekunleba/anaconda3/envs/pythonProject/lib/python3.8/site-packages/ipykernel/ipkernel.py:287: DeprecationWarning: `should_run_async` will not call `transform_cell` automatically in the future. Please pass the result to `transformed_cell` argument and any exception that happen during thetransform in `preprocessing_exc_tuple` in IPython 7.17 and above.\n",
      "  and should_run_async(code)\n"
     ]
    }
   ],
   "source": [
    "store = FeatureStore(repo_path=\".\")"
   ]
  },
  {
   "cell_type": "code",
   "execution_count": 6,
   "metadata": {},
   "outputs": [],
   "source": [
    "entity_df = pd.DataFrame.from_dict({\n",
    "    \"session_id\": [218564],\n",
    "    \"event_timestamp\" : datetime(2018, 10, 15, 8, 58, 00),\n",
    "})"
   ]
  },
  {
   "cell_type": "code",
   "execution_count": 7,
   "metadata": {},
   "outputs": [
    {
     "output_type": "error",
     "ename": "FeatureBucketForbiddenAccess",
     "evalue": "Private Registry Bucket deploy-mlops forbidden Access",
     "traceback": [
      "\u001b[0;31m---------------------------------------------------------------------------\u001b[0m",
      "\u001b[0;31mClientError\u001b[0m                               Traceback (most recent call last)",
      "\u001b[0;32m~/MyProjects/mlops/feast/sdk/python/feast/registry.py\u001b[0m in \u001b[0;36mget_registry_proto\u001b[0;34m(self)\u001b[0m\n\u001b[1;32m    520\u001b[0m             \u001b[0mbucket\u001b[0m \u001b[0;34m=\u001b[0m \u001b[0ms3\u001b[0m\u001b[0;34m.\u001b[0m\u001b[0mBucket\u001b[0m\u001b[0;34m(\u001b[0m\u001b[0mself\u001b[0m\u001b[0;34m.\u001b[0m\u001b[0m_bucket\u001b[0m\u001b[0;34m)\u001b[0m\u001b[0;34m\u001b[0m\u001b[0;34m\u001b[0m\u001b[0m\n\u001b[0;32m--> 521\u001b[0;31m             \u001b[0ms3\u001b[0m\u001b[0;34m.\u001b[0m\u001b[0mmeta\u001b[0m\u001b[0;34m.\u001b[0m\u001b[0mclient\u001b[0m\u001b[0;34m.\u001b[0m\u001b[0mhead_bucket\u001b[0m\u001b[0;34m(\u001b[0m\u001b[0mBucket\u001b[0m\u001b[0;34m=\u001b[0m\u001b[0mbucket\u001b[0m\u001b[0;34m.\u001b[0m\u001b[0mname\u001b[0m\u001b[0;34m)\u001b[0m\u001b[0;34m\u001b[0m\u001b[0;34m\u001b[0m\u001b[0m\n\u001b[0m\u001b[1;32m    522\u001b[0m         \u001b[0;32mexcept\u001b[0m \u001b[0mbotocore\u001b[0m\u001b[0;34m.\u001b[0m\u001b[0mclient\u001b[0m\u001b[0;34m.\u001b[0m\u001b[0mClientError\u001b[0m \u001b[0;32mas\u001b[0m \u001b[0me\u001b[0m\u001b[0;34m:\u001b[0m\u001b[0;34m\u001b[0m\u001b[0;34m\u001b[0m\u001b[0m\n",
      "\u001b[0;32m~/anaconda3/envs/pythonProject/lib/python3.8/site-packages/botocore/client.py\u001b[0m in \u001b[0;36m_api_call\u001b[0;34m(self, *args, **kwargs)\u001b[0m\n\u001b[1;32m    385\u001b[0m             \u001b[0;31m# The \"self\" in this scope is referring to the BaseClient.\u001b[0m\u001b[0;34m\u001b[0m\u001b[0;34m\u001b[0m\u001b[0;34m\u001b[0m\u001b[0m\n\u001b[0;32m--> 386\u001b[0;31m             \u001b[0;32mreturn\u001b[0m \u001b[0mself\u001b[0m\u001b[0;34m.\u001b[0m\u001b[0m_make_api_call\u001b[0m\u001b[0;34m(\u001b[0m\u001b[0moperation_name\u001b[0m\u001b[0;34m,\u001b[0m \u001b[0mkwargs\u001b[0m\u001b[0;34m)\u001b[0m\u001b[0;34m\u001b[0m\u001b[0;34m\u001b[0m\u001b[0m\n\u001b[0m\u001b[1;32m    387\u001b[0m \u001b[0;34m\u001b[0m\u001b[0m\n",
      "\u001b[0;32m~/anaconda3/envs/pythonProject/lib/python3.8/site-packages/botocore/client.py\u001b[0m in \u001b[0;36m_make_api_call\u001b[0;34m(self, operation_name, api_params)\u001b[0m\n\u001b[1;32m    704\u001b[0m             \u001b[0merror_class\u001b[0m \u001b[0;34m=\u001b[0m \u001b[0mself\u001b[0m\u001b[0;34m.\u001b[0m\u001b[0mexceptions\u001b[0m\u001b[0;34m.\u001b[0m\u001b[0mfrom_code\u001b[0m\u001b[0;34m(\u001b[0m\u001b[0merror_code\u001b[0m\u001b[0;34m)\u001b[0m\u001b[0;34m\u001b[0m\u001b[0;34m\u001b[0m\u001b[0m\n\u001b[0;32m--> 705\u001b[0;31m             \u001b[0;32mraise\u001b[0m \u001b[0merror_class\u001b[0m\u001b[0;34m(\u001b[0m\u001b[0mparsed_response\u001b[0m\u001b[0;34m,\u001b[0m \u001b[0moperation_name\u001b[0m\u001b[0;34m)\u001b[0m\u001b[0;34m\u001b[0m\u001b[0;34m\u001b[0m\u001b[0m\n\u001b[0m\u001b[1;32m    706\u001b[0m         \u001b[0;32melse\u001b[0m\u001b[0;34m:\u001b[0m\u001b[0;34m\u001b[0m\u001b[0;34m\u001b[0m\u001b[0m\n",
      "\u001b[0;31mClientError\u001b[0m: An error occurred (403) when calling the HeadBucket operation: Forbidden",
      "\nDuring handling of the above exception, another exception occurred:\n",
      "\u001b[0;31mFeatureBucketForbiddenAccess\u001b[0m              Traceback (most recent call last)",
      "\u001b[0;32m<ipython-input-7-2a3fe5f7bd62>\u001b[0m in \u001b[0;36m<module>\u001b[0;34m\u001b[0m\n\u001b[0;32m----> 1\u001b[0;31m \u001b[0mdata_df\u001b[0m \u001b[0;34m=\u001b[0m \u001b[0mstore\u001b[0m\u001b[0;34m.\u001b[0m\u001b[0mget_historical_features\u001b[0m\u001b[0;34m(\u001b[0m\u001b[0mfeature_refs\u001b[0m\u001b[0;34m=\u001b[0m\u001b[0;34m[\u001b[0m\u001b[0;34m\"view_log_table:device_type\"\u001b[0m\u001b[0;34m]\u001b[0m\u001b[0;34m,\u001b[0m \u001b[0mentity_df\u001b[0m\u001b[0;34m=\u001b[0m\u001b[0mentity_df\u001b[0m\u001b[0;34m)\u001b[0m\u001b[0;34m\u001b[0m\u001b[0;34m\u001b[0m\u001b[0m\n\u001b[0m\u001b[1;32m      2\u001b[0m \u001b[0mex_data\u001b[0m \u001b[0;34m=\u001b[0m \u001b[0mdata_df\u001b[0m\u001b[0;34m.\u001b[0m\u001b[0mto_df\u001b[0m\u001b[0;34m(\u001b[0m\u001b[0;34m)\u001b[0m\u001b[0;34m\u001b[0m\u001b[0;34m\u001b[0m\u001b[0m\n\u001b[1;32m      3\u001b[0m \u001b[0mex_data\u001b[0m\u001b[0;34m.\u001b[0m\u001b[0mhead\u001b[0m\u001b[0;34m(\u001b[0m\u001b[0;34m)\u001b[0m\u001b[0;34m\u001b[0m\u001b[0;34m\u001b[0m\u001b[0m\n",
      "\u001b[0;32m~/MyProjects/mlops/feast/sdk/python/feast/feature_store.py\u001b[0m in \u001b[0;36mget_historical_features\u001b[0;34m(self, entity_df, feature_refs)\u001b[0m\n\u001b[1;32m    281\u001b[0m         \u001b[0mself\u001b[0m\u001b[0;34m.\u001b[0m\u001b[0m_tele\u001b[0m\u001b[0;34m.\u001b[0m\u001b[0mlog\u001b[0m\u001b[0;34m(\u001b[0m\u001b[0;34m\"get_historical_features\"\u001b[0m\u001b[0;34m)\u001b[0m\u001b[0;34m\u001b[0m\u001b[0;34m\u001b[0m\u001b[0m\n\u001b[1;32m    282\u001b[0m \u001b[0;34m\u001b[0m\u001b[0m\n\u001b[0;32m--> 283\u001b[0;31m         \u001b[0mall_feature_views\u001b[0m \u001b[0;34m=\u001b[0m \u001b[0mself\u001b[0m\u001b[0;34m.\u001b[0m\u001b[0m_registry\u001b[0m\u001b[0;34m.\u001b[0m\u001b[0mlist_feature_views\u001b[0m\u001b[0;34m(\u001b[0m\u001b[0mproject\u001b[0m\u001b[0;34m=\u001b[0m\u001b[0mself\u001b[0m\u001b[0;34m.\u001b[0m\u001b[0mproject\u001b[0m\u001b[0;34m)\u001b[0m\u001b[0;34m\u001b[0m\u001b[0;34m\u001b[0m\u001b[0m\n\u001b[0m\u001b[1;32m    284\u001b[0m         \u001b[0;32mtry\u001b[0m\u001b[0;34m:\u001b[0m\u001b[0;34m\u001b[0m\u001b[0;34m\u001b[0m\u001b[0m\n\u001b[1;32m    285\u001b[0m             feature_views = _get_requested_feature_views(\n",
      "\u001b[0;32m~/MyProjects/mlops/feast/sdk/python/feast/registry.py\u001b[0m in \u001b[0;36mlist_feature_views\u001b[0;34m(self, project, allow_cache)\u001b[0m\n\u001b[1;32m    229\u001b[0m             \u001b[0mList\u001b[0m \u001b[0mof\u001b[0m \u001b[0mfeature\u001b[0m \u001b[0mviews\u001b[0m\u001b[0;34m\u001b[0m\u001b[0;34m\u001b[0m\u001b[0m\n\u001b[1;32m    230\u001b[0m         \"\"\"\n\u001b[0;32m--> 231\u001b[0;31m         \u001b[0mregistry_proto\u001b[0m \u001b[0;34m=\u001b[0m \u001b[0mself\u001b[0m\u001b[0;34m.\u001b[0m\u001b[0m_get_registry_proto\u001b[0m\u001b[0;34m(\u001b[0m\u001b[0mallow_cache\u001b[0m\u001b[0;34m=\u001b[0m\u001b[0mallow_cache\u001b[0m\u001b[0;34m)\u001b[0m\u001b[0;34m\u001b[0m\u001b[0;34m\u001b[0m\u001b[0m\n\u001b[0m\u001b[1;32m    232\u001b[0m         \u001b[0mfeature_views\u001b[0m \u001b[0;34m=\u001b[0m \u001b[0;34m[\u001b[0m\u001b[0;34m]\u001b[0m\u001b[0;34m\u001b[0m\u001b[0;34m\u001b[0m\u001b[0m\n\u001b[1;32m    233\u001b[0m         \u001b[0;32mfor\u001b[0m \u001b[0mfeature_view_proto\u001b[0m \u001b[0;32min\u001b[0m \u001b[0mregistry_proto\u001b[0m\u001b[0;34m.\u001b[0m\u001b[0mfeature_views\u001b[0m\u001b[0;34m:\u001b[0m\u001b[0;34m\u001b[0m\u001b[0;34m\u001b[0m\u001b[0m\n",
      "\u001b[0;32m~/MyProjects/mlops/feast/sdk/python/feast/registry.py\u001b[0m in \u001b[0;36m_get_registry_proto\u001b[0;34m(self, allow_cache)\u001b[0m\n\u001b[1;32m    357\u001b[0m             \u001b[0mself\u001b[0m\u001b[0;34m.\u001b[0m\u001b[0mcached_registry_proto_created\u001b[0m \u001b[0;34m=\u001b[0m \u001b[0mdatetime\u001b[0m\u001b[0;34m.\u001b[0m\u001b[0mnow\u001b[0m\u001b[0;34m(\u001b[0m\u001b[0;34m)\u001b[0m\u001b[0;34m\u001b[0m\u001b[0;34m\u001b[0m\u001b[0m\n\u001b[1;32m    358\u001b[0m         \u001b[0;32mexcept\u001b[0m \u001b[0mException\u001b[0m \u001b[0;32mas\u001b[0m \u001b[0me\u001b[0m\u001b[0;34m:\u001b[0m\u001b[0;34m\u001b[0m\u001b[0;34m\u001b[0m\u001b[0m\n\u001b[0;32m--> 359\u001b[0;31m             \u001b[0;32mraise\u001b[0m \u001b[0me\u001b[0m\u001b[0;34m\u001b[0m\u001b[0;34m\u001b[0m\u001b[0m\n\u001b[0m\u001b[1;32m    360\u001b[0m         \u001b[0;32mfinally\u001b[0m\u001b[0;34m:\u001b[0m\u001b[0;34m\u001b[0m\u001b[0;34m\u001b[0m\u001b[0m\n\u001b[1;32m    361\u001b[0m             \u001b[0mself\u001b[0m\u001b[0;34m.\u001b[0m\u001b[0mcache_being_updated\u001b[0m \u001b[0;34m=\u001b[0m \u001b[0;32mFalse\u001b[0m\u001b[0;34m\u001b[0m\u001b[0;34m\u001b[0m\u001b[0m\n",
      "\u001b[0;32m~/MyProjects/mlops/feast/sdk/python/feast/registry.py\u001b[0m in \u001b[0;36m_get_registry_proto\u001b[0;34m(self, allow_cache)\u001b[0m\n\u001b[1;32m    353\u001b[0m         \u001b[0;32mtry\u001b[0m\u001b[0;34m:\u001b[0m\u001b[0;34m\u001b[0m\u001b[0;34m\u001b[0m\u001b[0m\n\u001b[1;32m    354\u001b[0m             \u001b[0mself\u001b[0m\u001b[0;34m.\u001b[0m\u001b[0mcache_being_updated\u001b[0m \u001b[0;34m=\u001b[0m \u001b[0;32mTrue\u001b[0m\u001b[0;34m\u001b[0m\u001b[0;34m\u001b[0m\u001b[0m\n\u001b[0;32m--> 355\u001b[0;31m             \u001b[0mregistry_proto\u001b[0m \u001b[0;34m=\u001b[0m \u001b[0mself\u001b[0m\u001b[0;34m.\u001b[0m\u001b[0m_registry_store\u001b[0m\u001b[0;34m.\u001b[0m\u001b[0mget_registry_proto\u001b[0m\u001b[0;34m(\u001b[0m\u001b[0;34m)\u001b[0m\u001b[0;34m\u001b[0m\u001b[0;34m\u001b[0m\u001b[0m\n\u001b[0m\u001b[1;32m    356\u001b[0m             \u001b[0mself\u001b[0m\u001b[0;34m.\u001b[0m\u001b[0mcached_registry_proto\u001b[0m \u001b[0;34m=\u001b[0m \u001b[0mregistry_proto\u001b[0m\u001b[0;34m\u001b[0m\u001b[0;34m\u001b[0m\u001b[0m\n\u001b[1;32m    357\u001b[0m             \u001b[0mself\u001b[0m\u001b[0;34m.\u001b[0m\u001b[0mcached_registry_proto_created\u001b[0m \u001b[0;34m=\u001b[0m \u001b[0mdatetime\u001b[0m\u001b[0;34m.\u001b[0m\u001b[0mnow\u001b[0m\u001b[0;34m(\u001b[0m\u001b[0;34m)\u001b[0m\u001b[0;34m\u001b[0m\u001b[0;34m\u001b[0m\u001b[0m\n",
      "\u001b[0;32m~/MyProjects/mlops/feast/sdk/python/feast/registry.py\u001b[0m in \u001b[0;36mget_registry_proto\u001b[0;34m(self)\u001b[0m\n\u001b[1;32m    527\u001b[0m                 \u001b[0;32mraise\u001b[0m \u001b[0mFeatureBucketNotExist\u001b[0m\u001b[0;34m(\u001b[0m\u001b[0mself\u001b[0m\u001b[0;34m.\u001b[0m\u001b[0m_bucket\u001b[0m\u001b[0;34m)\u001b[0m\u001b[0;34m\u001b[0m\u001b[0;34m\u001b[0m\u001b[0m\n\u001b[1;32m    528\u001b[0m             \u001b[0;32melse\u001b[0m\u001b[0;34m:\u001b[0m\u001b[0;34m\u001b[0m\u001b[0;34m\u001b[0m\u001b[0m\n\u001b[0;32m--> 529\u001b[0;31m                 \u001b[0;32mraise\u001b[0m \u001b[0mFeatureBucketForbiddenAccess\u001b[0m\u001b[0;34m(\u001b[0m\u001b[0mself\u001b[0m\u001b[0;34m.\u001b[0m\u001b[0m_bucket\u001b[0m\u001b[0;34m)\u001b[0m\u001b[0;34m\u001b[0m\u001b[0;34m\u001b[0m\u001b[0m\n\u001b[0m\u001b[1;32m    530\u001b[0m \u001b[0;34m\u001b[0m\u001b[0m\n\u001b[1;32m    531\u001b[0m         \u001b[0;32mtry\u001b[0m\u001b[0;34m:\u001b[0m\u001b[0;34m\u001b[0m\u001b[0;34m\u001b[0m\u001b[0m\n",
      "\u001b[0;31mFeatureBucketForbiddenAccess\u001b[0m: Private Registry Bucket deploy-mlops forbidden Access"
     ]
    }
   ],
   "source": [
    "data_df = store.get_historical_features(feature_refs=[\"view_log_table:device_type\"], entity_df=entity_df)\n",
    "ex_data = data_df.to_df()\n",
    "ex_data.head()"
   ]
  },
  {
   "cell_type": "code",
   "execution_count": 51,
   "metadata": {},
   "outputs": [
    {
     "output_type": "execute_result",
     "data": {
      "text/plain": [
       "   session_id view_log_table__device_type\n",
       "0      573960                        None"
      ],
      "text/html": "<div>\n<style scoped>\n    .dataframe tbody tr th:only-of-type {\n        vertical-align: middle;\n    }\n\n    .dataframe tbody tr th {\n        vertical-align: top;\n    }\n\n    .dataframe thead th {\n        text-align: right;\n    }\n</style>\n<table border=\"1\" class=\"dataframe\">\n  <thead>\n    <tr style=\"text-align: right;\">\n      <th></th>\n      <th>session_id</th>\n      <th>view_log_table__device_type</th>\n    </tr>\n  </thead>\n  <tbody>\n    <tr>\n      <th>0</th>\n      <td>573960</td>\n      <td>None</td>\n    </tr>\n  </tbody>\n</table>\n</div>"
     },
     "metadata": {},
     "execution_count": 51
    }
   ],
   "source": [
    "online_data_df = store.get_online_features(feature_refs=[\"view_log_table:device_type\"], entity_rows=[{\"session_id\": 573960}])\n",
    "online_ex_data = online_data_df.to_df()\n",
    "online_ex_data.head()"
   ]
  },
  {
   "cell_type": "code",
   "execution_count": 48,
   "metadata": {},
   "outputs": [
    {
     "output_type": "execute_result",
     "data": {
      "text/plain": [
       "            event_timestamp  session_id view_log_table__device_type\n",
       "0 2018-10-15 08:58:00+00:00      573960                     android"
      ],
      "text/html": "<div>\n<style scoped>\n    .dataframe tbody tr th:only-of-type {\n        vertical-align: middle;\n    }\n\n    .dataframe tbody tr th {\n        vertical-align: top;\n    }\n\n    .dataframe thead th {\n        text-align: right;\n    }\n</style>\n<table border=\"1\" class=\"dataframe\">\n  <thead>\n    <tr style=\"text-align: right;\">\n      <th></th>\n      <th>event_timestamp</th>\n      <th>session_id</th>\n      <th>view_log_table__device_type</th>\n    </tr>\n  </thead>\n  <tbody>\n    <tr>\n      <th>0</th>\n      <td>2018-10-15 08:58:00+00:00</td>\n      <td>573960</td>\n      <td>android</td>\n    </tr>\n  </tbody>\n</table>\n</div>"
     },
     "metadata": {},
     "execution_count": 48
    }
   ],
   "source": []
  },
  {
   "cell_type": "code",
   "execution_count": 37,
   "metadata": {},
   "outputs": [
    {
     "output_type": "execute_result",
     "data": {
      "text/plain": [
       "                   datetime  driver_id  conv_rate  acc_rate  avg_daily_trips  \\\n",
       "0 2021-06-25 01:00:00+00:00       1005   0.521360  0.815559              263   \n",
       "1 2021-06-25 02:00:00+00:00       1005   0.726197  0.885668              984   \n",
       "2 2021-06-25 03:00:00+00:00       1005   0.735627  0.111781              854   \n",
       "3 2021-06-25 04:00:00+00:00       1005   0.518403  0.191643              610   \n",
       "4 2021-06-25 05:00:00+00:00       1005   0.656814  0.309438              447   \n",
       "\n",
       "                  created  \n",
       "0 2021-07-10 01:29:17.552  \n",
       "1 2021-07-10 01:29:17.552  \n",
       "2 2021-07-10 01:29:17.552  \n",
       "3 2021-07-10 01:29:17.552  \n",
       "4 2021-07-10 01:29:17.552  "
      ],
      "text/html": "<div>\n<style scoped>\n    .dataframe tbody tr th:only-of-type {\n        vertical-align: middle;\n    }\n\n    .dataframe tbody tr th {\n        vertical-align: top;\n    }\n\n    .dataframe thead th {\n        text-align: right;\n    }\n</style>\n<table border=\"1\" class=\"dataframe\">\n  <thead>\n    <tr style=\"text-align: right;\">\n      <th></th>\n      <th>datetime</th>\n      <th>driver_id</th>\n      <th>conv_rate</th>\n      <th>acc_rate</th>\n      <th>avg_daily_trips</th>\n      <th>created</th>\n    </tr>\n  </thead>\n  <tbody>\n    <tr>\n      <th>0</th>\n      <td>2021-06-25 01:00:00+00:00</td>\n      <td>1005</td>\n      <td>0.521360</td>\n      <td>0.815559</td>\n      <td>263</td>\n      <td>2021-07-10 01:29:17.552</td>\n    </tr>\n    <tr>\n      <th>1</th>\n      <td>2021-06-25 02:00:00+00:00</td>\n      <td>1005</td>\n      <td>0.726197</td>\n      <td>0.885668</td>\n      <td>984</td>\n      <td>2021-07-10 01:29:17.552</td>\n    </tr>\n    <tr>\n      <th>2</th>\n      <td>2021-06-25 03:00:00+00:00</td>\n      <td>1005</td>\n      <td>0.735627</td>\n      <td>0.111781</td>\n      <td>854</td>\n      <td>2021-07-10 01:29:17.552</td>\n    </tr>\n    <tr>\n      <th>3</th>\n      <td>2021-06-25 04:00:00+00:00</td>\n      <td>1005</td>\n      <td>0.518403</td>\n      <td>0.191643</td>\n      <td>610</td>\n      <td>2021-07-10 01:29:17.552</td>\n    </tr>\n    <tr>\n      <th>4</th>\n      <td>2021-06-25 05:00:00+00:00</td>\n      <td>1005</td>\n      <td>0.656814</td>\n      <td>0.309438</td>\n      <td>447</td>\n      <td>2021-07-10 01:29:17.552</td>\n    </tr>\n  </tbody>\n</table>\n</div>"
     },
     "metadata": {},
     "execution_count": 37
    }
   ],
   "source": [
    "check = pd.read_parquet(\"/Users/adekunleba/MyProjects/mlops/feature_ops/junks/feature_repo/data/driver_stats.parquet\")\n",
    "\n",
    "check.head()"
   ]
  },
  {
   "cell_type": "code",
   "execution_count": null,
   "metadata": {},
   "outputs": [],
   "source": []
  }
 ]
}